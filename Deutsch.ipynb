{
 "cells": [
  {
   "cell_type": "code",
   "execution_count": 1,
   "id": "e5cfc134",
   "metadata": {},
   "outputs": [
    {
     "name": "stdout",
     "output_type": "stream",
     "text": [
      "Que funcion quieres? 1\n",
      "     ┌───┐┌───┐┌──────────┐        \n",
      "q_0: ┤ X ├┤ H ├┤0         ├────────\n",
      "     ├───┤└───┘│  Unitary │┌───┐┌─┐\n",
      "q_1: ┤ H ├─────┤1         ├┤ H ├┤M├\n",
      "     └───┘     └──────────┘└───┘└╥┘\n",
      "c: 1/════════════════════════════╩═\n",
      "                                 0 \n",
      "R: {'1': 10}\n"
     ]
    }
   ],
   "source": [
    "\"\"\"\n",
    "Este documento representa pruebas realizadas con el algoritmo de Deutsch, siguiendo las matrices que se\n",
    "presentaban como ejercicios en el libro Quantum Computing for Computer Scientists, de Noson S. Yanofsky\n",
    "y Mirco A. Mannucci.\n",
    "\n",
    "Se puede observar que al usar operadores, tendremos el mismo problema con la base de Qiskit o forma en \n",
    "la que Qiskit organiza los qubits. Para solucionar este problema, al ser el algoritmo muy simple, he decidido\n",
    "dar la vuelta al algoritmo. \n",
    "\n",
    "Además, se ha programado para que ejecutando la misma función te diera a elegir que operador querías \n",
    "utilizar. Esto fue un ejercicio que nos propuso Luis, tras haber realizado la suma.\n",
    "\"\"\"\n",
    "\n",
    "\n",
    "from qiskit import QuantumCircuit, transpile\n",
    "from qiskit.providers.aer import QasmSimulator\n",
    "from qiskit.quantum_info.operators import Operator\n",
    "\n",
    "f1=Operator([[0, 1, 0, 0], [1, 0, 0, 0], [0, 0, 1, 0], [0, 0, 0, 1]])\n",
    "f2=Operator([[1, 0, 0, 0], [0, 1, 0, 0], [0, 0, 0, 1], [0, 0, 1, 0]])\n",
    "f3=Operator([[1, 0, 0, 0], [0, 1, 0, 0], [0, 0, 1, 0], [0, 0, 0, 1]])\n",
    "f4=Operator([[0, 1, 0, 0], [1, 0, 0, 0], [0, 0, 0, 1], [0, 0, 1, 0]])\n",
    "\n",
    "fun_dic={\"1\":f1,\"2\":f2,\"3\":f3,\"4\":f4}\n",
    "\n",
    "def selectf():\n",
    "    \"\"\"\n",
    "    Pregunta por que numero de funcion quieres usar en el algoritmo y devuelve el operador de dicha funcion\n",
    "    \"\"\"\n",
    "    i=input(\"Que funcion quieres? \") #Espera 1, 2, 3 o 4\n",
    "    try:\n",
    "        i in fun_dic\n",
    "        return fun_dic[i]\n",
    "    except:\n",
    "        print (\"La función\",i,\"no esta definida.\")\n",
    "        \n",
    "def deutsch_alg():\n",
    "    simulator = QasmSimulator()\n",
    "    \n",
    "    circuit = QuantumCircuit(2, 1)\n",
    "    \n",
    "    circuit.x(0)\n",
    "    circuit.h(0)\n",
    "    circuit.h(1)\n",
    "    \n",
    "    try:\n",
    "        f=selectf()\n",
    "        circuit.append(f,[0,1])\n",
    "        circuit.h(1)\n",
    "        circuit.measure(1,0)\n",
    "        print(circuit.draw())\n",
    "        \n",
    "        compiled_circuit = transpile(circuit, simulator)\n",
    "        job = simulator.run(compiled_circuit, shots=10)\n",
    "        result = job.result()\n",
    "        counts = result.get_counts(compiled_circuit)\n",
    "        print(\"R:\",counts)\n",
    "        \n",
    "    except:\n",
    "        print()\n",
    "    \n",
    "deutsch_alg()"
   ]
  },
  {
   "cell_type": "code",
   "execution_count": 2,
   "id": "d9acd6fa",
   "metadata": {},
   "outputs": [
    {
     "name": "stdout",
     "output_type": "stream",
     "text": [
      "Que funcion quieres? 2\n",
      "     ┌───┐┌───┐┌──────────┐        \n",
      "q_0: ┤ X ├┤ H ├┤0         ├────────\n",
      "     ├───┤└───┘│  Unitary │┌───┐┌─┐\n",
      "q_1: ┤ H ├─────┤1         ├┤ H ├┤M├\n",
      "     └───┘     └──────────┘└───┘└╥┘\n",
      "c: 1/════════════════════════════╩═\n",
      "                                 0 \n",
      "R: {'1': 10}\n"
     ]
    }
   ],
   "source": [
    "deutsch_alg()"
   ]
  },
  {
   "cell_type": "code",
   "execution_count": 3,
   "id": "b8121f16",
   "metadata": {},
   "outputs": [
    {
     "name": "stdout",
     "output_type": "stream",
     "text": [
      "Que funcion quieres? 3\n",
      "     ┌───┐┌───┐┌──────────┐        \n",
      "q_0: ┤ X ├┤ H ├┤0         ├────────\n",
      "     ├───┤└───┘│  Unitary │┌───┐┌─┐\n",
      "q_1: ┤ H ├─────┤1         ├┤ H ├┤M├\n",
      "     └───┘     └──────────┘└───┘└╥┘\n",
      "c: 1/════════════════════════════╩═\n",
      "                                 0 \n",
      "R: {'0': 10}\n"
     ]
    }
   ],
   "source": [
    "deutsch_alg()"
   ]
  },
  {
   "cell_type": "code",
   "execution_count": 4,
   "id": "1036d1e6",
   "metadata": {},
   "outputs": [
    {
     "name": "stdout",
     "output_type": "stream",
     "text": [
      "Que funcion quieres? 4\n",
      "     ┌───┐┌───┐┌──────────┐        \n",
      "q_0: ┤ X ├┤ H ├┤0         ├────────\n",
      "     ├───┤└───┘│  Unitary │┌───┐┌─┐\n",
      "q_1: ┤ H ├─────┤1         ├┤ H ├┤M├\n",
      "     └───┘     └──────────┘└───┘└╥┘\n",
      "c: 1/════════════════════════════╩═\n",
      "                                 0 \n",
      "R: {'0': 10}\n"
     ]
    }
   ],
   "source": [
    "deutsch_alg()"
   ]
  },
  {
   "cell_type": "code",
   "execution_count": 5,
   "id": "87cd834d",
   "metadata": {},
   "outputs": [
    {
     "name": "stdout",
     "output_type": "stream",
     "text": [
      "Que funcion quieres? 5\n",
      "La función 5 no esta definida.\n",
      "\n"
     ]
    }
   ],
   "source": [
    "deutsch_alg()"
   ]
  }
 ],
 "metadata": {
  "kernelspec": {
   "display_name": "Python 3 (ipykernel)",
   "language": "python",
   "name": "python3"
  },
  "language_info": {
   "codemirror_mode": {
    "name": "ipython",
    "version": 3
   },
   "file_extension": ".py",
   "mimetype": "text/x-python",
   "name": "python",
   "nbconvert_exporter": "python",
   "pygments_lexer": "ipython3",
   "version": "3.9.13"
  }
 },
 "nbformat": 4,
 "nbformat_minor": 5
}
