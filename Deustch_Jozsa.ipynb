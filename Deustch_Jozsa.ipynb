{
 "cells": [
  {
   "cell_type": "code",
   "execution_count": 1,
   "id": "516a0517",
   "metadata": {},
   "outputs": [],
   "source": [
    "from qiskit import QuantumCircuit, ClassicalRegister, QuantumRegister, transpile, Aer, assemble\n",
    "from qiskit.providers.aer import QasmSimulator\n",
    "from qiskit.visualization import plot_histogram, plot_bloch_multivector\n",
    "from qiskit.tools.visualization import circuit_drawer, array_to_latex\n",
    "from qiskit.quantum_info.operators import Operator\n",
    "import numpy as np\n",
    "svsim = Aer.get_backend('aer_simulator')\n",
    "simulator = QasmSimulator()"
   ]
  },
  {
   "cell_type": "code",
   "execution_count": 2,
   "id": "366d52bb",
   "metadata": {},
   "outputs": [],
   "source": [
    "#Matriz para f:{0,1}^2 -> {0,1}, donde f(|00>)=1,f(|01>)=1,f(|10>)=0,f(|11>)=0.\n",
    "#Pag 181, Noson S Yanofsky and Mirco A Mannucci. Quantum computing for computer scientists\n",
    "\n",
    "f=Operator([[0,1,0,0,0,0,0,0],\n",
    "            [1,0,0,0,0,0,0,0],\n",
    "            [0,0,0,1,0,0,0,0],\n",
    "            [0,0,1,0,0,0,0,0],\n",
    "            [0,0,0,0,1,0,0,0],\n",
    "            [0,0,0,0,0,1,0,0],\n",
    "            [0,0,0,0,0,0,1,0],\n",
    "            [0,0,0,0,0,0,0,1]])\n",
    "\n",
    "#Se va a seguir el mismo esquema al principio, para comprobar que los statevector van al revés de los esperado\n",
    "#|abc> -> |cba>\n",
    "\n",
    "#Se comprueba el statevector antes de f y después de f para todas las posibilidades"
   ]
  },
  {
   "cell_type": "code",
   "execution_count": 3,
   "id": "d3714011",
   "metadata": {},
   "outputs": [
    {
     "data": {
      "text/latex": [
       "$$\n",
       "\\text{Statevector} = \n",
       "\\begin{bmatrix}\n",
       "1 & 0 & 0 & 0 & 0 & 0 & 0 & 0  \\\\\n",
       " \\end{bmatrix}\n",
       "$$"
      ],
      "text/plain": [
       "<IPython.core.display.Latex object>"
      ]
     },
     "execution_count": 3,
     "metadata": {},
     "output_type": "execute_result"
    }
   ],
   "source": [
    "#Comprobamos para |000>\n",
    "\n",
    "q=QuantumCircuit(3)\n",
    "\n",
    "q.save_statevector()\n",
    "qobj = assemble(q)\n",
    "final_state = svsim.run(qobj).result().get_statevector()\n",
    "array_to_latex(final_state, prefix=\"\\\\text{Statevector} = \")\n",
    "\n",
    "#De aquí obtenemos que el primer elemento es |000>"
   ]
  },
  {
   "cell_type": "code",
   "execution_count": 4,
   "id": "4da1cb91",
   "metadata": {},
   "outputs": [
    {
     "data": {
      "text/html": [
       "<pre style=\"word-wrap: normal;white-space: pre;background: #fff0;line-height: 1.1;font-family: &quot;Courier New&quot;,Courier,monospace\">     ┌──────────┐\n",
       "q_0: ┤0         ├\n",
       "     │          │\n",
       "q_1: ┤1 Unitary ├\n",
       "     │          │\n",
       "q_2: ┤2         ├\n",
       "     └──────────┘\n",
       "c: 2/════════════\n",
       "                 </pre>"
      ],
      "text/plain": [
       "     ┌──────────┐\n",
       "q_0: ┤0         ├\n",
       "     │          │\n",
       "q_1: ┤1 Unitary ├\n",
       "     │          │\n",
       "q_2: ┤2         ├\n",
       "     └──────────┘\n",
       "c: 2/════════════\n",
       "                 "
      ]
     },
     "execution_count": 4,
     "metadata": {},
     "output_type": "execute_result"
    }
   ],
   "source": [
    "q=QuantumCircuit(3,2)\n",
    "\n",
    "q.append(f,[0,1,2])\n",
    "\n",
    "q.draw()"
   ]
  },
  {
   "cell_type": "code",
   "execution_count": 5,
   "id": "e723c9f7",
   "metadata": {},
   "outputs": [
    {
     "data": {
      "text/latex": [
       "$$\n",
       "\\text{Statevector} = \n",
       "\\begin{bmatrix}\n",
       "0 & 1 & 0 & 0 & 0 & 0 & 0 & 0  \\\\\n",
       " \\end{bmatrix}\n",
       "$$"
      ],
      "text/plain": [
       "<IPython.core.display.Latex object>"
      ]
     },
     "execution_count": 5,
     "metadata": {},
     "output_type": "execute_result"
    }
   ],
   "source": [
    "q.save_statevector()\n",
    "qobj = assemble(q)\n",
    "final_state = svsim.run(qobj).result().get_statevector()\n",
    "array_to_latex(final_state, prefix=\"\\\\text{Statevector} = \")\n",
    "\n",
    "#Tras aplicar f a |000>, debería ir a |001>, por lo que suponemos que el segundo elemento es |001>"
   ]
  },
  {
   "cell_type": "code",
   "execution_count": 6,
   "id": "18068070",
   "metadata": {},
   "outputs": [
    {
     "data": {
      "text/latex": [
       "$$\n",
       "\\text{Statevector} = \n",
       "\\begin{bmatrix}\n",
       "0 & 1 & 0 & 0 & 0 & 0 & 0 & 0  \\\\\n",
       " \\end{bmatrix}\n",
       "$$"
      ],
      "text/plain": [
       "<IPython.core.display.Latex object>"
      ]
     },
     "execution_count": 6,
     "metadata": {},
     "output_type": "execute_result"
    }
   ],
   "source": [
    "#Comprobamos para |100>\n",
    "\n",
    "q=QuantumCircuit(3)\n",
    "\n",
    "q.x(0)\n",
    "\n",
    "q.save_statevector()\n",
    "qobj = assemble(q)\n",
    "final_state = svsim.run(qobj).result().get_statevector()\n",
    "array_to_latex(final_state, prefix=\"\\\\text{Statevector} = \")\n",
    "\n",
    "#Primera contradicción, |100> es el segundo elemento de la base, pero según lo anterior, era el |001>"
   ]
  },
  {
   "cell_type": "code",
   "execution_count": 7,
   "id": "51301674",
   "metadata": {},
   "outputs": [
    {
     "data": {
      "text/html": [
       "<pre style=\"word-wrap: normal;white-space: pre;background: #fff0;line-height: 1.1;font-family: &quot;Courier New&quot;,Courier,monospace\">     ┌───┐┌──────────┐\n",
       "q_0: ┤ X ├┤0         ├\n",
       "     └───┘│          │\n",
       "q_1: ─────┤1 Unitary ├\n",
       "          │          │\n",
       "q_2: ─────┤2         ├\n",
       "          └──────────┘</pre>"
      ],
      "text/plain": [
       "     ┌───┐┌──────────┐\n",
       "q_0: ┤ X ├┤0         ├\n",
       "     └───┘│          │\n",
       "q_1: ─────┤1 Unitary ├\n",
       "          │          │\n",
       "q_2: ─────┤2         ├\n",
       "          └──────────┘"
      ]
     },
     "execution_count": 7,
     "metadata": {},
     "output_type": "execute_result"
    }
   ],
   "source": [
    "q=QuantumCircuit(3)\n",
    "\n",
    "q.x(0)\n",
    "\n",
    "q.append(f,[0,1,2])\n",
    "\n",
    "q.draw()"
   ]
  },
  {
   "cell_type": "code",
   "execution_count": 8,
   "id": "aa76828f",
   "metadata": {},
   "outputs": [
    {
     "data": {
      "text/latex": [
       "$$\n",
       "\\text{Statevector} = \n",
       "\\begin{bmatrix}\n",
       "1 & 0 & 0 & 0 & 0 & 0 & 0 & 0  \\\\\n",
       " \\end{bmatrix}\n",
       "$$"
      ],
      "text/plain": [
       "<IPython.core.display.Latex object>"
      ]
     },
     "execution_count": 8,
     "metadata": {},
     "output_type": "execute_result"
    }
   ],
   "source": [
    "q.save_statevector()\n",
    "qobj = assemble(q)\n",
    "final_state = svsim.run(qobj).result().get_statevector()\n",
    "array_to_latex(final_state, prefix=\"\\\\text{Statevector} = \")\n",
    "\n",
    "# De |100> deberíamos obtener |100>, pero en cambio nos devuelve el primer elemento, que era |000>."
   ]
  },
  {
   "cell_type": "code",
   "execution_count": 9,
   "id": "815484c2",
   "metadata": {},
   "outputs": [
    {
     "data": {
      "text/latex": [
       "$$\n",
       "\\text{Statevector} = \n",
       "\\begin{bmatrix}\n",
       "0 & 0 & 1 & 0 & 0 & 0 & 0 & 0  \\\\\n",
       " \\end{bmatrix}\n",
       "$$"
      ],
      "text/plain": [
       "<IPython.core.display.Latex object>"
      ]
     },
     "execution_count": 9,
     "metadata": {},
     "output_type": "execute_result"
    }
   ],
   "source": [
    "#Comprobamos para |010>\n",
    "\n",
    "q=QuantumCircuit(3)\n",
    "\n",
    "q.x(1)\n",
    "\n",
    "q.save_statevector()\n",
    "qobj = assemble(q)\n",
    "final_state = svsim.run(qobj).result().get_statevector()\n",
    "array_to_latex(final_state, prefix=\"\\\\text{Statevector} = \")"
   ]
  },
  {
   "cell_type": "code",
   "execution_count": 10,
   "id": "7437af13",
   "metadata": {},
   "outputs": [
    {
     "data": {
      "text/html": [
       "<pre style=\"word-wrap: normal;white-space: pre;background: #fff0;line-height: 1.1;font-family: &quot;Courier New&quot;,Courier,monospace\">          ┌──────────┐\n",
       "q_0: ─────┤0         ├\n",
       "     ┌───┐│          │\n",
       "q_1: ┤ X ├┤1 Unitary ├\n",
       "     └───┘│          │\n",
       "q_2: ─────┤2         ├\n",
       "          └──────────┘</pre>"
      ],
      "text/plain": [
       "          ┌──────────┐\n",
       "q_0: ─────┤0         ├\n",
       "     ┌───┐│          │\n",
       "q_1: ┤ X ├┤1 Unitary ├\n",
       "     └───┘│          │\n",
       "q_2: ─────┤2         ├\n",
       "          └──────────┘"
      ]
     },
     "execution_count": 10,
     "metadata": {},
     "output_type": "execute_result"
    }
   ],
   "source": [
    "q=QuantumCircuit(3)\n",
    "\n",
    "q.x(1)\n",
    "\n",
    "q.append(f,[0,1,2])\n",
    "\n",
    "q.draw()"
   ]
  },
  {
   "cell_type": "code",
   "execution_count": 11,
   "id": "2f0e7852",
   "metadata": {},
   "outputs": [
    {
     "data": {
      "text/latex": [
       "$$\n",
       "\\text{Statevector} = \n",
       "\\begin{bmatrix}\n",
       "0 & 0 & 0 & 1 & 0 & 0 & 0 & 0  \\\\\n",
       " \\end{bmatrix}\n",
       "$$"
      ],
      "text/plain": [
       "<IPython.core.display.Latex object>"
      ]
     },
     "execution_count": 11,
     "metadata": {},
     "output_type": "execute_result"
    }
   ],
   "source": [
    "q.save_statevector()\n",
    "qobj = assemble(q)\n",
    "final_state = svsim.run(qobj).result().get_statevector()\n",
    "array_to_latex(final_state, prefix=\"\\\\text{Statevector} = \")"
   ]
  },
  {
   "cell_type": "code",
   "execution_count": 12,
   "id": "0095815d",
   "metadata": {},
   "outputs": [
    {
     "data": {
      "text/latex": [
       "$$\n",
       "\\text{Statevector} = \n",
       "\\begin{bmatrix}\n",
       "0 & 0 & 0 & 1 & 0 & 0 & 0 & 0  \\\\\n",
       " \\end{bmatrix}\n",
       "$$"
      ],
      "text/plain": [
       "<IPython.core.display.Latex object>"
      ]
     },
     "execution_count": 12,
     "metadata": {},
     "output_type": "execute_result"
    }
   ],
   "source": [
    "#Comprobamos para |110>\n",
    "\n",
    "q=QuantumCircuit(3,2)\n",
    "\n",
    "q.x(0)\n",
    "q.x(1)\n",
    "\n",
    "q.save_statevector()\n",
    "qobj = assemble(q)\n",
    "final_state = svsim.run(qobj).result().get_statevector()\n",
    "array_to_latex(final_state, prefix=\"\\\\text{Statevector} = \")"
   ]
  },
  {
   "cell_type": "code",
   "execution_count": 13,
   "id": "bd3aaeab",
   "metadata": {},
   "outputs": [
    {
     "data": {
      "text/html": [
       "<pre style=\"word-wrap: normal;white-space: pre;background: #fff0;line-height: 1.1;font-family: &quot;Courier New&quot;,Courier,monospace\">     ┌───┐┌──────────┐\n",
       "q_0: ┤ X ├┤0         ├\n",
       "     ├───┤│          │\n",
       "q_1: ┤ X ├┤1 Unitary ├\n",
       "     └───┘│          │\n",
       "q_2: ─────┤2         ├\n",
       "          └──────────┘\n",
       "c: 2/═════════════════\n",
       "                      </pre>"
      ],
      "text/plain": [
       "     ┌───┐┌──────────┐\n",
       "q_0: ┤ X ├┤0         ├\n",
       "     ├───┤│          │\n",
       "q_1: ┤ X ├┤1 Unitary ├\n",
       "     └───┘│          │\n",
       "q_2: ─────┤2         ├\n",
       "          └──────────┘\n",
       "c: 2/═════════════════\n",
       "                      "
      ]
     },
     "execution_count": 13,
     "metadata": {},
     "output_type": "execute_result"
    }
   ],
   "source": [
    "q=QuantumCircuit(3,2)\n",
    "\n",
    "q.x(0)\n",
    "q.x(1)\n",
    "\n",
    "q.append(f,[0,1,2])\n",
    "\n",
    "q.draw()"
   ]
  },
  {
   "cell_type": "code",
   "execution_count": 14,
   "id": "913bb590",
   "metadata": {},
   "outputs": [
    {
     "data": {
      "text/latex": [
       "$$\n",
       "\\text{Statevector} = \n",
       "\\begin{bmatrix}\n",
       "0 & 0 & 1 & 0 & 0 & 0 & 0 & 0  \\\\\n",
       " \\end{bmatrix}\n",
       "$$"
      ],
      "text/plain": [
       "<IPython.core.display.Latex object>"
      ]
     },
     "execution_count": 14,
     "metadata": {},
     "output_type": "execute_result"
    }
   ],
   "source": [
    "q.save_statevector()\n",
    "qobj = assemble(q)\n",
    "final_state = svsim.run(qobj).result().get_statevector()\n",
    "array_to_latex(final_state, prefix=\"\\\\text{Statevector} = \")\n",
    "\n",
    "# Que devuelve |010>, cuando debería de se |110>"
   ]
  },
  {
   "cell_type": "code",
   "execution_count": null,
   "id": "4170d9bc",
   "metadata": {},
   "outputs": [],
   "source": [
    "\"\"\"\n",
    "Es evidente que los resultados de f no son los correctos, esto se debe a que qiskit analiza las filas de \n",
    "la matriz de una manera distinta, y no siguiento el formato usual como el del libro que hemos utilizado.\n",
    "\n",
    "Veamos el ejemplo solo en la columna:\n",
    "\n",
    "Natural   ->  Qiskit\n",
    "\n",
    "1 |000>       1 |000>\n",
    "2 |001>       5 |100>\n",
    "3 |010>       3 |010>\n",
    "4 |011>       7 |110>\n",
    "5 |100>       2 |001>\n",
    "6 |101>       6 |101>\n",
    "7 |110>       4 |011>\n",
    "8 |111>       8 |111>\n",
    "\n",
    "Esto se puede comprobar simplemente llamando al statevector de cada estado.\n",
    "\n",
    "Por esta razón la matriz de f no funcionaba bien, es debido a que la base está ordenada de otra manera.\n",
    "Es decir, deberíamos reordenar la matriz para que represente lo que nosotros queríamos.\n",
    "\n",
    "\"\"\""
   ]
  },
  {
   "cell_type": "code",
   "execution_count": 15,
   "id": "815e6bec",
   "metadata": {},
   "outputs": [],
   "source": [
    "# Cambiamos la matriz de f a g, con el cambio de orden de la base\n",
    "\n",
    "f=Operator([[0,1,0,0,0,0,0,0],\n",
    "            [1,0,0,0,0,0,0,0],\n",
    "            [0,0,0,1,0,0,0,0],\n",
    "            [0,0,1,0,0,0,0,0],\n",
    "            [0,0,0,0,1,0,0,0],\n",
    "            [0,0,0,0,0,1,0,0],\n",
    "            [0,0,0,0,0,0,1,0],\n",
    "            [0,0,0,0,0,0,0,1]])\n",
    "\n",
    "g=Operator([[0,1,0,0,0,0,0,0],\n",
    "            [0,0,0,0,1,0,0,0],\n",
    "            [0,0,0,1,0,0,0,0],\n",
    "            [0,0,0,0,0,0,1,0],\n",
    "            [1,0,0,0,0,0,0,0],\n",
    "            [0,0,0,0,0,1,0,0],\n",
    "            [0,0,1,0,0,0,0,0],\n",
    "            [0,0,0,0,0,0,0,1]])"
   ]
  },
  {
   "cell_type": "code",
   "execution_count": 16,
   "id": "c01e2079",
   "metadata": {},
   "outputs": [
    {
     "data": {
      "text/html": [
       "<pre style=\"word-wrap: normal;white-space: pre;background: #fff0;line-height: 1.1;font-family: &quot;Courier New&quot;,Courier,monospace\">           ░ ┌───┐ ░ ┌──────────┐ ░ ┌───┐ ░ ┌─┐   \n",
       "q_0: ──────░─┤ H ├─░─┤0         ├─░─┤ H ├─░─┤M├───\n",
       "           ░ ├───┤ ░ │          │ ░ ├───┤ ░ └╥┘┌─┐\n",
       "q_1: ──────░─┤ H ├─░─┤1 Unitary ├─░─┤ H ├─░──╫─┤M├\n",
       "     ┌───┐ ░ ├───┤ ░ │          │ ░ └───┘ ░  ║ └╥┘\n",
       "q_2: ┤ X ├─░─┤ H ├─░─┤2         ├─░───────░──╫──╫─\n",
       "     └───┘ ░ └───┘ ░ └──────────┘ ░       ░  ║  ║ \n",
       "c: 2/════════════════════════════════════════╩══╩═\n",
       "                                             0  1 </pre>"
      ],
      "text/plain": [
       "           ░ ┌───┐ ░ ┌──────────┐ ░ ┌───┐ ░ ┌─┐   \n",
       "q_0: ──────░─┤ H ├─░─┤0         ├─░─┤ H ├─░─┤M├───\n",
       "           ░ ├───┤ ░ │          │ ░ ├───┤ ░ └╥┘┌─┐\n",
       "q_1: ──────░─┤ H ├─░─┤1 Unitary ├─░─┤ H ├─░──╫─┤M├\n",
       "     ┌───┐ ░ ├───┤ ░ │          │ ░ └───┘ ░  ║ └╥┘\n",
       "q_2: ┤ X ├─░─┤ H ├─░─┤2         ├─░───────░──╫──╫─\n",
       "     └───┘ ░ └───┘ ░ └──────────┘ ░       ░  ║  ║ \n",
       "c: 2/════════════════════════════════════════╩══╩═\n",
       "                                             0  1 "
      ]
     },
     "execution_count": 16,
     "metadata": {},
     "output_type": "execute_result"
    }
   ],
   "source": [
    "q=QuantumCircuit(3,2)\n",
    "\n",
    "q.x(2)\n",
    "q.barrier()\n",
    "for i in range(3):\n",
    "    q.h(i)\n",
    "q.barrier()\n",
    "q.append(f,[0,1,2])\n",
    "q.barrier()\n",
    "for i in range(0,2):\n",
    "    q.h(i)\n",
    "q.barrier()\n",
    "q.measure(0,0)\n",
    "q.measure(1,1)\n",
    "q.draw()"
   ]
  },
  {
   "cell_type": "code",
   "execution_count": 17,
   "id": "95753925",
   "metadata": {},
   "outputs": [
    {
     "name": "stdout",
     "output_type": "stream",
     "text": [
      "dj_f: {'00': 100}\n"
     ]
    }
   ],
   "source": [
    "compiled_circuit_c= transpile(q, simulator)\n",
    "job_c = simulator.run(compiled_circuit_c, shots=100)\n",
    "result_c = job_c.result()\n",
    "counts_c = result_c.get_counts(compiled_circuit_c)\n",
    "print(\"dj_f:\",counts_c)\n",
    "\n",
    "# Esto quiere decir que es contante!, pero evidentemente es balanceada por definición. Esto se debe al problema\n",
    "# de la base de qiskit. "
   ]
  },
  {
   "cell_type": "code",
   "execution_count": 18,
   "id": "3b69681a",
   "metadata": {},
   "outputs": [
    {
     "data": {
      "text/html": [
       "<pre style=\"word-wrap: normal;white-space: pre;background: #fff0;line-height: 1.1;font-family: &quot;Courier New&quot;,Courier,monospace\">           ░ ┌───┐ ░ ┌──────────┐ ░ ┌───┐ ░ ┌─┐   \n",
       "q_0: ──────░─┤ H ├─░─┤0         ├─░─┤ H ├─░─┤M├───\n",
       "           ░ ├───┤ ░ │          │ ░ ├───┤ ░ └╥┘┌─┐\n",
       "q_1: ──────░─┤ H ├─░─┤1 Unitary ├─░─┤ H ├─░──╫─┤M├\n",
       "     ┌───┐ ░ ├───┤ ░ │          │ ░ └───┘ ░  ║ └╥┘\n",
       "q_2: ┤ X ├─░─┤ H ├─░─┤2         ├─░───────░──╫──╫─\n",
       "     └───┘ ░ └───┘ ░ └──────────┘ ░       ░  ║  ║ \n",
       "c: 2/════════════════════════════════════════╩══╩═\n",
       "                                             0  1 </pre>"
      ],
      "text/plain": [
       "           ░ ┌───┐ ░ ┌──────────┐ ░ ┌───┐ ░ ┌─┐   \n",
       "q_0: ──────░─┤ H ├─░─┤0         ├─░─┤ H ├─░─┤M├───\n",
       "           ░ ├───┤ ░ │          │ ░ ├───┤ ░ └╥┘┌─┐\n",
       "q_1: ──────░─┤ H ├─░─┤1 Unitary ├─░─┤ H ├─░──╫─┤M├\n",
       "     ┌───┐ ░ ├───┤ ░ │          │ ░ └───┘ ░  ║ └╥┘\n",
       "q_2: ┤ X ├─░─┤ H ├─░─┤2         ├─░───────░──╫──╫─\n",
       "     └───┘ ░ └───┘ ░ └──────────┘ ░       ░  ║  ║ \n",
       "c: 2/════════════════════════════════════════╩══╩═\n",
       "                                             0  1 "
      ]
     },
     "execution_count": 18,
     "metadata": {},
     "output_type": "execute_result"
    }
   ],
   "source": [
    "#Probaremos ahora con g\n",
    "\n",
    "q=QuantumCircuit(3,2)\n",
    "\n",
    "q.x(2)\n",
    "q.barrier()\n",
    "for i in range(3):\n",
    "    q.h(i)\n",
    "q.barrier()\n",
    "q.append(g,[0,1,2])\n",
    "q.barrier()\n",
    "for i in range(0,2):\n",
    "    q.h(i)\n",
    "q.barrier()\n",
    "q.measure(0,0)\n",
    "q.measure(1,1)\n",
    "q.draw()"
   ]
  },
  {
   "cell_type": "code",
   "execution_count": 19,
   "id": "e22d0606",
   "metadata": {},
   "outputs": [
    {
     "name": "stdout",
     "output_type": "stream",
     "text": [
      "dj_g: {'01': 100}\n"
     ]
    }
   ],
   "source": [
    "compiled_circuit_c= transpile(q, simulator)\n",
    "job_c = simulator.run(compiled_circuit_c, shots=100)\n",
    "result_c = job_c.result()\n",
    "counts_c = result_c.get_counts(compiled_circuit_c)\n",
    "print(\"dj_g:\",counts_c)"
   ]
  },
  {
   "cell_type": "code",
   "execution_count": 20,
   "id": "992f2dec",
   "metadata": {},
   "outputs": [
    {
     "data": {
      "text/html": [
       "<pre style=\"word-wrap: normal;white-space: pre;background: #fff0;line-height: 1.1;font-family: &quot;Courier New&quot;,Courier,monospace\">     ┌───┐ ░ ┌───┐ ░ ┌──────────┐ ░       ░       \n",
       "q_0: ┤ X ├─░─┤ H ├─░─┤0         ├─░───────░───────\n",
       "     └───┘ ░ ├───┤ ░ │          │ ░ ┌───┐ ░ ┌─┐   \n",
       "q_1: ──────░─┤ H ├─░─┤1 Unitary ├─░─┤ H ├─░─┤M├───\n",
       "           ░ ├───┤ ░ │          │ ░ ├───┤ ░ └╥┘┌─┐\n",
       "q_2: ──────░─┤ H ├─░─┤2         ├─░─┤ H ├─░──╫─┤M├\n",
       "           ░ └───┘ ░ └──────────┘ ░ └───┘ ░  ║ └╥┘\n",
       "c: 2/════════════════════════════════════════╩══╩═\n",
       "                                             1  0 </pre>"
      ],
      "text/plain": [
       "     ┌───┐ ░ ┌───┐ ░ ┌──────────┐ ░       ░       \n",
       "q_0: ┤ X ├─░─┤ H ├─░─┤0         ├─░───────░───────\n",
       "     └───┘ ░ ├───┤ ░ │          │ ░ ┌───┐ ░ ┌─┐   \n",
       "q_1: ──────░─┤ H ├─░─┤1 Unitary ├─░─┤ H ├─░─┤M├───\n",
       "           ░ ├───┤ ░ │          │ ░ ├───┤ ░ └╥┘┌─┐\n",
       "q_2: ──────░─┤ H ├─░─┤2         ├─░─┤ H ├─░──╫─┤M├\n",
       "           ░ └───┘ ░ └──────────┘ ░ └───┘ ░  ║ └╥┘\n",
       "c: 2/════════════════════════════════════════╩══╩═\n",
       "                                             1  0 "
      ]
     },
     "execution_count": 20,
     "metadata": {},
     "output_type": "execute_result"
    }
   ],
   "source": [
    "# Veamos que ocurre si invertimos el algoritmo sobre los qubits, pero manteniendo f\n",
    "\n",
    "q=QuantumCircuit(3,2)\n",
    "\n",
    "q.x(0)\n",
    "q.barrier()\n",
    "for i in range(3):\n",
    "    q.h(i)\n",
    "q.barrier()\n",
    "q.append(f,[0,1,2])\n",
    "q.barrier()\n",
    "for i in range(1,3):\n",
    "    q.h(i)\n",
    "q.barrier()\n",
    "q.measure(1,1)\n",
    "q.measure(2,0)\n",
    "q.draw()"
   ]
  },
  {
   "cell_type": "code",
   "execution_count": 21,
   "id": "4b189e1c",
   "metadata": {},
   "outputs": [
    {
     "name": "stdout",
     "output_type": "stream",
     "text": [
      "dj'_f: {'01': 100}\n"
     ]
    }
   ],
   "source": [
    "compiled_circuit_c= transpile(q, simulator)\n",
    "job_c = simulator.run(compiled_circuit_c, shots=100)\n",
    "result_c = job_c.result()\n",
    "counts_c = result_c.get_counts(compiled_circuit_c)\n",
    "print(\"dj'_f:\",counts_c)\n",
    "\n",
    "# Obtenemos exactamente el mismo resultado que usando g con el algoritmo directo."
   ]
  },
  {
   "cell_type": "code",
   "execution_count": null,
   "id": "fe136683",
   "metadata": {},
   "outputs": [],
   "source": [
    "# Podemos concluir además, que hemos conseguido una función f balanceada talque el resultado del algoritmo de\n",
    "# Deustch-Jozsa no da el ket |11..1>, como ocurre con todos los oraculos balanceados que preparamos con las\n",
    "# indicaciones que nos enseña qiskit."
   ]
  }
 ],
 "metadata": {
  "kernelspec": {
   "display_name": "Python 3 (ipykernel)",
   "language": "python",
   "name": "python3"
  },
  "language_info": {
   "codemirror_mode": {
    "name": "ipython",
    "version": 3
   },
   "file_extension": ".py",
   "mimetype": "text/x-python",
   "name": "python",
   "nbconvert_exporter": "python",
   "pygments_lexer": "ipython3",
   "version": "3.9.13"
  }
 },
 "nbformat": 4,
 "nbformat_minor": 5
}
